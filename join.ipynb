{
 "cells": [
  {
   "cell_type": "code",
   "execution_count": 4,
   "metadata": {},
   "outputs": [
    {
     "name": "stdout",
     "output_type": "stream",
     "text": [
      "저장되었습니다.\n"
     ]
    }
   ],
   "source": [
    "import pandas as pd\n",
    "\n",
    "# 1. 데이터 로드\n",
    "matching_df = pd.read_csv('matching_questions_cnn_953.csv')\n",
    "prices_df = pd.read_csv('question_prices_with_changes_cnn.csv')\n",
    "\n",
    "# 2. 필요한 열 선택\n",
    "prices_subset = prices_df[['yes_price', 'change_1d', 'change_3d', 'change_5d']]\n",
    "\n",
    "# 3. 열 옆으로 붙이기\n",
    "# axis=1을 사용해 수평으로 결합\n",
    "combined_df = pd.concat([matching_df, prices_subset], axis=1)\n",
    "\n",
    "# 4. 결과를 새로운 CSV로 저장\n",
    "combined_df.to_csv('cnn_with_labels.csv', index=False)\n",
    "print(\"저장되었습니다.\")"
   ]
  }
 ],
 "metadata": {
  "kernelspec": {
   "display_name": "keybert_env",
   "language": "python",
   "name": "python3"
  },
  "language_info": {
   "codemirror_mode": {
    "name": "ipython",
    "version": 3
   },
   "file_extension": ".py",
   "mimetype": "text/x-python",
   "name": "python",
   "nbconvert_exporter": "python",
   "pygments_lexer": "ipython3",
   "version": "3.9.21"
  }
 },
 "nbformat": 4,
 "nbformat_minor": 2
}
