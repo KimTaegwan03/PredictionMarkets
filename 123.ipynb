{
 "cells": [
  {
   "cell_type": "code",
   "execution_count": null,
   "metadata": {},
   "outputs": [],
   "source": [
    "import csv\n",
    "from vimeo_downloader import Vimeo\n",
    "import os\n"
   ]
  },
  {
   "cell_type": "code",
   "execution_count": null,
   "metadata": {},
   "outputs": [],
   "source": [
    "\n",
    "# 다운로드 디렉토리 설정\n",
    "download_dir = \"vimeo_videos\"\n",
    "if not os.path.exists(download_dir):\n",
    "    os.makedirs(download_dir)\n",
    "\n",
    "# CSV에서 링크 읽기\n",
    "input_csv = 'titles_videos.csv'\n",
    "video_urls = []\n",
    "with open(input_csv, 'r', encoding='utf-8') as file:\n",
    "    reader = csv.DictReader(file)\n",
    "    for row in reader:\n",
    "        video_urls.append(row['Video Link'])\n",
    "        print(f\"읽은 비디오 링크: {row['Video Link']}\")\n",
    "\n",
    "# 각 링크에서 영상 다운로드\n",
    "for url in video_urls:\n",
    "    try:\n",
    "        print(f\"다운로드 시작: {url}\")\n",
    "        # Vimeo 객체 생성\n",
    "        v = Vimeo(url)\n",
    "        # 사용 가능한 스트림 확인\n",
    "        streams = v.streams\n",
    "        if not streams:\n",
    "            print(f\"스트림을 찾을 수 없음: {url}\")\n",
    "            continue\n",
    "        \n",
    "        # 최고 품질 스트림 선택 (마지막이 보통 최고 품질)\n",
    "        best_stream = streams[-1]\n",
    "        # 파일명은 제목에서 가져오거나 URL에서 생성\n",
    "        filename = f\"{url.split('/')[-1]}.mp4\"\n",
    "        # 다운로드\n",
    "        best_stream.download(download_directory=download_dir, filename=filename)\n",
    "        print(f\"다운로드 완료: {filename}\")\n",
    "\n",
    "    except Exception as e:\n",
    "        print(f\"다운로드 실패: {url}, 오류: {e}\")"
   ]
  }
 ],
 "metadata": {
  "language_info": {
   "name": "python"
  }
 },
 "nbformat": 4,
 "nbformat_minor": 2
}
